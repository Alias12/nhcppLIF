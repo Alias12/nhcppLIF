{
 "cells": [
  {
   "cell_type": "code",
   "execution_count": 1,
   "metadata": {},
   "outputs": [
    {
     "name": "stderr",
     "output_type": "stream",
     "text": [
      "/Volumes/LocalDataHD/b/bm/bmj22/anaconda3/lib/python3.6/site-packages/h5py/__init__.py:36: FutureWarning: Conversion of the second argument of issubdtype from `float` to `np.floating` is deprecated. In future, it will be treated as `np.float64 == np.dtype(float).type`.\n",
      "  from ._conv import register_converters as _register_converters\n"
     ]
    }
   ],
   "source": [
    "from LIF_Model import *"
   ]
  },
  {
   "cell_type": "code",
   "execution_count": 3,
   "metadata": {},
   "outputs": [
    {
     "name": "stdout",
     "output_type": "stream",
     "text": [
      "A/R/NHPP: \n",
      "pre - 61.540140s\n",
      "2000 runs - 136.669713s\n",
      "counting spikes - 0.198069s\n",
      "R/NHPP: \n",
      "pre - 68.176433s\n",
      "2000 runs - 147.904743s\n",
      "counting spikes - 0.081856s\n",
      "A/HPP: \n",
      "pre - 61.546607s\n",
      "2000 runs - 132.980728s\n",
      "counting spikes - 0.190862s\n",
      "saving data: \n",
      "0.151715s\n",
      "A/R/NHPP: \n",
      "pre - 60.876360s\n",
      "2000 runs - 130.946043s\n",
      "counting spikes - 0.253367s\n",
      "R/NHPP: \n",
      "pre - 63.456617s\n",
      "2000 runs - 132.656579s\n",
      "counting spikes - 0.087204s\n",
      "A/HPP: \n",
      "pre - 61.600382s\n",
      "2000 runs - 141.252558s\n",
      "counting spikes - 0.181267s\n",
      "saving data: \n",
      "0.135577s\n",
      "A/R/NHPP: \n",
      "pre - 62.767192s\n",
      "2000 runs - 155.845888s\n",
      "counting spikes - 0.191737s\n",
      "R/NHPP: \n",
      "pre - 70.812611s\n",
      "2000 runs - 132.375313s\n",
      "counting spikes - 0.090250s\n",
      "A/HPP: \n",
      "pre - 69.245071s\n",
      "2000 runs - 138.087332s\n",
      "counting spikes - 0.176039s\n",
      "saving data: \n",
      "0.133493s\n",
      "A/R/NHPP: \n",
      "pre - 63.601871s\n",
      "2000 runs - 161.546093s\n",
      "counting spikes - 0.224642s\n",
      "R/NHPP: \n",
      "pre - 64.443219s\n",
      "2000 runs - 155.017903s\n",
      "counting spikes - 0.088108s\n",
      "A/HPP: \n",
      "pre - 64.910607s\n",
      "2000 runs - 141.494793s\n",
      "counting spikes - 0.201859s\n",
      "saving data: \n",
      "0.126992s\n",
      "A/R/NHPP: \n",
      "pre - 67.508307s\n",
      "2000 runs - 163.337157s\n",
      "counting spikes - 0.282310s\n",
      "R/NHPP: \n",
      "pre - 75.560803s\n",
      "2000 runs - 149.454961s\n",
      "counting spikes - 0.096984s\n",
      "A/HPP: \n",
      "pre - 79.604979s\n",
      "2000 runs - 148.992730s\n",
      "counting spikes - 0.209091s\n",
      "saving data: \n",
      "0.124316s\n"
     ]
    }
   ],
   "source": [
    "# initialize some parameters\n",
    "recLen = 1\n",
    "dt = .00001#00005\n",
    "f = 5\n",
    "nS = 20\n",
    "nGen= 100\n",
    "offSet = 5\n",
    "maxAVal = 20\n",
    "maxTheta = .5\n",
    "maxQ = 10\n",
    "\n",
    "#model params\n",
    "vReset = 0\n",
    "vThresh = 1\n",
    "res = 400 # probably we don't want to change those three? not sure about res\n",
    "\n",
    "vRest = [.25] #different values we run the model for\n",
    "gLeak = [50]\n",
    "vDev = [120,140,160,180,200]\n",
    "\n",
    "\n",
    "#Synaptic reaction params\n",
    "tau1 = 2\n",
    "tau2 = 0.8\n",
    "\n",
    "for i in range(len(vRest)):\n",
    "    for j in range(len(gLeak)):\n",
    "        for k in range(len(vDev)):\n",
    "            runAll(recLen, dt, f, nS, nGen, offSet, maxAVal, maxTheta, maxQ, vRest[i], vReset, vThresh, gLeak[j], res, vDev[k], tau1, tau2)"
   ]
  },
  {
   "cell_type": "code",
   "execution_count": null,
   "metadata": {},
   "outputs": [],
   "source": []
  },
  {
   "cell_type": "code",
   "execution_count": null,
   "metadata": {},
   "outputs": [],
   "source": []
  },
  {
   "cell_type": "code",
   "execution_count": null,
   "metadata": {},
   "outputs": [],
   "source": []
  },
  {
   "cell_type": "code",
   "execution_count": null,
   "metadata": {},
   "outputs": [],
   "source": []
  },
  {
   "cell_type": "code",
   "execution_count": null,
   "metadata": {},
   "outputs": [],
   "source": []
  }
 ],
 "metadata": {
  "kernelspec": {
   "display_name": "Python 3",
   "language": "python",
   "name": "python3"
  },
  "language_info": {
   "codemirror_mode": {
    "name": "ipython",
    "version": 3
   },
   "file_extension": ".py",
   "mimetype": "text/x-python",
   "name": "python",
   "nbconvert_exporter": "python",
   "pygments_lexer": "ipython3",
   "version": "3.6.4"
  }
 },
 "nbformat": 4,
 "nbformat_minor": 2
}
