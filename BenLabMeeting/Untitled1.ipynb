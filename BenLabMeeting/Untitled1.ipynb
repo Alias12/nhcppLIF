{
 "cells": [
  {
   "cell_type": "code",
   "execution_count": 2,
   "metadata": {
    "collapsed": true
   },
   "outputs": [],
   "source": [
    "import numpy as np\n",
    "import matplotlib.pyplot as plt"
   ]
  },
  {
   "cell_type": "code",
   "execution_count": 88,
   "metadata": {
    "collapsed": true
   },
   "outputs": [],
   "source": [
    "x=np.zeros(12)\n",
    "for i in range(0,12):\n",
    "    x[i]=i\n",
    "k=.25\n",
    "maxx=0\n",
    "c=2"
   ]
  },
  {
   "cell_type": "code",
   "execution_count": 118,
   "metadata": {},
   "outputs": [],
   "source": [
    "expX=(1-np.exp(-.01*x))\n",
    "expX=expX/(expX[1]-expX[0])\n",
    "expX2=x\n",
    "expX3=(1-np.exp(-x*.5))\n",
    "expX3=expX3/(expX3[1]-expX3[0])"
   ]
  },
  {
   "cell_type": "code",
   "execution_count": 119,
   "metadata": {},
   "outputs": [
    {
     "name": "stdout",
     "output_type": "stream",
     "text": [
      "[  0.           1.           1.99004983   2.97024851   3.94069404\n",
      "   4.90148348   5.8527129    6.79447744   7.72687126   8.6499876\n",
      "   9.56391879  10.46875621]\n"
     ]
    }
   ],
   "source": [
    "print(expX)"
   ]
  },
  {
   "cell_type": "code",
   "execution_count": 120,
   "metadata": {},
   "outputs": [
    {
     "data": {
      "image/png": "[encoded data removed]",
      "text/plain": [
       "<matplotlib.figure.Figure at 0x21e2dfea240>"
      ]
     },
     "metadata": {},
     "output_type": "display_data"
    }
   ],
   "source": [
    "plt.plot(expX)\n",
    "plt.plot(expX2)\n",
    "plt.plot(expX3)\n",
    "plt.xlabel(\"Input Quanta\")\n",
    "plt.ylabel(\"Normalized Current\")\n",
    "plt.show()"
   ]
  },
  {
   "cell_type": "code",
   "execution_count": 64,
   "metadata": {},
   "outputs": [
    {
     "name": "stdout",
     "output_type": "stream",
     "text": [
      "0.500011351271\n"
     ]
    }
   ],
   "source": [
    "print(expX[3]-expX[2])"
   ]
  },
  {
   "cell_type": "code",
   "execution_count": null,
   "metadata": {
    "collapsed": true
   },
   "outputs": [],
   "source": []
  }
 ],
 "metadata": {
  "kernelspec": {
   "display_name": "Python 3",
   "language": "python",
   "name": "python3"
  },
  "language_info": {
   "codemirror_mode": {
    "name": "ipython",
    "version": 3
   },
   "file_extension": ".py",
   "mimetype": "text/x-python",
   "name": "python",
   "nbconvert_exporter": "python",
   "pygments_lexer": "ipython3",
   "version": "3.6.4"
  }
 },
 "nbformat": 4,
 "nbformat_minor": 2
}
