{
 "cells": [
  {
   "cell_type": "code",
   "execution_count": 1,
   "metadata": {},
   "outputs": [],
   "source": [
    "from LIF_Model import *"
   ]
  },
  {
   "cell_type": "code",
   "execution_count": 14,
   "metadata": {},
   "outputs": [
    {
     "name": "stdout",
     "output_type": "stream",
     "text": [
      "A/R/NHPP: \n",
      "pre - 3.499172s\n",
      "200 runs - 22.613128s\n",
      "counting spikes - 0.000000s\n",
      "R/NHPP: \n",
      "pre - 3.577279s\n",
      "200 runs - 22.651033s\n",
      "counting spikes - 0.007978s\n",
      "A/HPP: \n",
      "pre - 3.633919s\n",
      "200 runs - 23.189143s\n",
      "counting spikes - 0.015622s\n",
      "saving data: \n",
      "0.078104s\n",
      "A/R/NHPP: \n",
      "pre - 4.222763s\n",
      "200 runs - 23.746490s\n",
      "counting spikes - 0.012967s\n",
      "R/NHPP: \n",
      "pre - 3.816184s\n",
      "200 runs - 24.845931s\n",
      "counting spikes - 0.000000s\n",
      "A/HPP: \n",
      "pre - 3.725889s\n",
      "200 runs - 25.479791s\n",
      "counting spikes - 0.015622s\n",
      "saving data: \n",
      "0.078106s\n",
      "A/R/NHPP: \n",
      "pre - 3.719993s\n",
      "200 runs - 23.217310s\n",
      "counting spikes - 0.015619s\n",
      "R/NHPP: \n",
      "pre - 3.670585s\n",
      "200 runs - 22.990599s\n",
      "counting spikes - 0.015659s\n",
      "A/HPP: \n",
      "pre - 3.742271s\n"
     ]
    },
    {
     "ename": "KeyboardInterrupt",
     "evalue": "",
     "output_type": "error",
     "traceback": [
      "\u001b[0;31m---------------------------------------------------------------------------\u001b[0m",
      "\u001b[0;31mKeyboardInterrupt\u001b[0m                         Traceback (most recent call last)",
      "\u001b[0;32m<ipython-input-14-cf972c09f9b7>\u001b[0m in \u001b[0;36m<module>\u001b[0;34m()\u001b[0m\n\u001b[1;32m     27\u001b[0m     \u001b[1;32mfor\u001b[0m \u001b[0mj\u001b[0m \u001b[1;32min\u001b[0m \u001b[0mrange\u001b[0m\u001b[1;33m(\u001b[0m\u001b[0mlen\u001b[0m\u001b[1;33m(\u001b[0m\u001b[0mgLeak\u001b[0m\u001b[1;33m)\u001b[0m\u001b[1;33m)\u001b[0m\u001b[1;33m:\u001b[0m\u001b[1;33m\u001b[0m\u001b[0m\n\u001b[1;32m     28\u001b[0m         \u001b[1;32mfor\u001b[0m \u001b[0mk\u001b[0m \u001b[1;32min\u001b[0m \u001b[0mrange\u001b[0m\u001b[1;33m(\u001b[0m\u001b[0mlen\u001b[0m\u001b[1;33m(\u001b[0m\u001b[0mvDev\u001b[0m\u001b[1;33m)\u001b[0m\u001b[1;33m)\u001b[0m\u001b[1;33m:\u001b[0m\u001b[1;33m\u001b[0m\u001b[0m\n\u001b[0;32m---> 29\u001b[0;31m             \u001b[0mrunAll\u001b[0m\u001b[1;33m(\u001b[0m\u001b[0mrecLen\u001b[0m\u001b[1;33m,\u001b[0m \u001b[0mdt\u001b[0m\u001b[1;33m,\u001b[0m \u001b[0mf\u001b[0m\u001b[1;33m,\u001b[0m \u001b[0mnS\u001b[0m\u001b[1;33m,\u001b[0m \u001b[0mnGen\u001b[0m\u001b[1;33m,\u001b[0m \u001b[0moffSet\u001b[0m\u001b[1;33m,\u001b[0m \u001b[0mmaxAVal\u001b[0m\u001b[1;33m,\u001b[0m \u001b[0mmaxTheta\u001b[0m\u001b[1;33m,\u001b[0m \u001b[0mmaxQ\u001b[0m\u001b[1;33m,\u001b[0m \u001b[0mvRest\u001b[0m\u001b[1;33m[\u001b[0m\u001b[0mi\u001b[0m\u001b[1;33m]\u001b[0m\u001b[1;33m,\u001b[0m \u001b[0mvReset\u001b[0m\u001b[1;33m,\u001b[0m \u001b[0mvThresh\u001b[0m\u001b[1;33m,\u001b[0m \u001b[0mgLeak\u001b[0m\u001b[1;33m[\u001b[0m\u001b[0mj\u001b[0m\u001b[1;33m]\u001b[0m\u001b[1;33m,\u001b[0m \u001b[0mres\u001b[0m\u001b[1;33m,\u001b[0m \u001b[0mvDev\u001b[0m\u001b[1;33m[\u001b[0m\u001b[0mk\u001b[0m\u001b[1;33m]\u001b[0m\u001b[1;33m,\u001b[0m \u001b[0mtau1\u001b[0m\u001b[1;33m,\u001b[0m \u001b[0mtau2\u001b[0m\u001b[1;33m)\u001b[0m\u001b[1;33m\u001b[0m\u001b[0m\n\u001b[0m",
      "\u001b[0;32mC:\\Users\\benJames\\Dropbox\\LIF\\BenLabMeeting\\LIF_Model.py\u001b[0m in \u001b[0;36mrunAll\u001b[0;34m(recLen, dt, f, nS, nGen, offSet, maxAVal, maxTheta, maxQ, vRest, vReset, vThresh, gLeak, res, vDev, tau1, tau2)\u001b[0m\n\u001b[1;32m    270\u001b[0m     \u001b[0mrateSpikeMat\u001b[0m\u001b[1;33m,\u001b[0m \u001b[0mrateQuanta\u001b[0m\u001b[1;33m,\u001b[0m \u001b[0mrateFuckups\u001b[0m \u001b[1;33m=\u001b[0m \u001b[0mrunContrasts\u001b[0m\u001b[1;33m(\u001b[0m\u001b[0mlambdaRate\u001b[0m\u001b[1;33m,\u001b[0m \u001b[0mnT\u001b[0m\u001b[1;33m,\u001b[0m \u001b[0mnS\u001b[0m\u001b[1;33m,\u001b[0m \u001b[0mnGen\u001b[0m\u001b[1;33m,\u001b[0m \u001b[0mmaxQ\u001b[0m\u001b[1;33m,\u001b[0m \u001b[0mdt\u001b[0m\u001b[1;33m,\u001b[0m \u001b[0mvDev\u001b[0m\u001b[1;33m,\u001b[0m \u001b[0mvThresh\u001b[0m\u001b[1;33m,\u001b[0m \u001b[0mvRest\u001b[0m\u001b[1;33m,\u001b[0m \u001b[0mvReset\u001b[0m\u001b[1;33m,\u001b[0m \u001b[0mgLeak\u001b[0m\u001b[1;33m,\u001b[0m \u001b[0mres\u001b[0m\u001b[1;33m,\u001b[0m \u001b[0mtau1\u001b[0m\u001b[1;33m,\u001b[0m \u001b[0mtau2\u001b[0m\u001b[1;33m,\u001b[0m \u001b[1;34m'rate'\u001b[0m\u001b[1;33m)\u001b[0m\u001b[1;33m\u001b[0m\u001b[0m\n\u001b[1;32m    271\u001b[0m     \u001b[0mprint\u001b[0m\u001b[1;33m(\u001b[0m\u001b[1;34m'A/HPP: '\u001b[0m\u001b[1;33m)\u001b[0m\u001b[1;33m\u001b[0m\u001b[0m\n\u001b[0;32m--> 272\u001b[0;31m     \u001b[0mampSpikeMat\u001b[0m\u001b[1;33m,\u001b[0m \u001b[0mampQuanta\u001b[0m\u001b[1;33m,\u001b[0m \u001b[0mampFuckups\u001b[0m \u001b[1;33m=\u001b[0m \u001b[0mrunContrasts\u001b[0m\u001b[1;33m(\u001b[0m\u001b[0mlambdaAmp\u001b[0m\u001b[1;33m,\u001b[0m \u001b[0mnT\u001b[0m\u001b[1;33m,\u001b[0m \u001b[0mnS\u001b[0m\u001b[1;33m,\u001b[0m \u001b[0mnGen\u001b[0m\u001b[1;33m,\u001b[0m \u001b[0mmaxQ\u001b[0m\u001b[1;33m,\u001b[0m \u001b[0mdt\u001b[0m\u001b[1;33m,\u001b[0m \u001b[0mvDev\u001b[0m\u001b[1;33m,\u001b[0m \u001b[0mvThresh\u001b[0m\u001b[1;33m,\u001b[0m \u001b[0mvRest\u001b[0m\u001b[1;33m,\u001b[0m \u001b[0mvReset\u001b[0m\u001b[1;33m,\u001b[0m \u001b[0mgLeak\u001b[0m\u001b[1;33m,\u001b[0m \u001b[0mres\u001b[0m\u001b[1;33m,\u001b[0m \u001b[0mtau1\u001b[0m\u001b[1;33m,\u001b[0m \u001b[0mtau2\u001b[0m\u001b[1;33m,\u001b[0m \u001b[1;34m'amp'\u001b[0m\u001b[1;33m)\u001b[0m\u001b[1;33m\u001b[0m\u001b[0m\n\u001b[0m\u001b[1;32m    273\u001b[0m \u001b[1;33m\u001b[0m\u001b[0m\n\u001b[1;32m    274\u001b[0m     \u001b[1;31m# data saving\u001b[0m\u001b[1;33m\u001b[0m\u001b[1;33m\u001b[0m\u001b[0m\n",
      "\u001b[0;32mC:\\Users\\benJames\\Dropbox\\LIF\\BenLabMeeting\\LIF_Model.py\u001b[0m in \u001b[0;36mrunContrasts\u001b[0;34m(lambdaI, nT, nS, nGen, maxQ, dt, vDev, vThresh, vRest, vReset, gLeak, res, tau1, tau2, inputT)\u001b[0m\n\u001b[1;32m    231\u001b[0m     \u001b[1;32mfor\u001b[0m \u001b[0mi\u001b[0m \u001b[1;32min\u001b[0m \u001b[0mrange\u001b[0m \u001b[1;33m(\u001b[0m\u001b[1;36m0\u001b[0m\u001b[1;33m,\u001b[0m \u001b[0mnS\u001b[0m\u001b[1;33m)\u001b[0m\u001b[1;33m:\u001b[0m\u001b[1;33m\u001b[0m\u001b[0m\n\u001b[1;32m    232\u001b[0m         \u001b[0mtContrastStart\u001b[0m \u001b[1;33m=\u001b[0m \u001b[0mtime\u001b[0m\u001b[1;33m.\u001b[0m\u001b[0mtime\u001b[0m\u001b[1;33m(\u001b[0m\u001b[1;33m)\u001b[0m\u001b[1;33m\u001b[0m\u001b[0m\n\u001b[0;32m--> 233\u001b[0;31m         \u001b[0mspikeTrueMat\u001b[0m\u001b[1;33m.\u001b[0m\u001b[0mappend\u001b[0m\u001b[1;33m(\u001b[0m\u001b[0mlifModelCurrVec\u001b[0m\u001b[1;33m(\u001b[0m\u001b[0mcurr\u001b[0m\u001b[1;33m,\u001b[0m \u001b[0mnT\u001b[0m\u001b[1;33m,\u001b[0m \u001b[0mi\u001b[0m\u001b[1;33m,\u001b[0m \u001b[0mvDev\u001b[0m\u001b[1;33m,\u001b[0m \u001b[0mvThresh\u001b[0m\u001b[1;33m,\u001b[0m \u001b[0mvRest\u001b[0m\u001b[1;33m,\u001b[0m \u001b[0mvReset\u001b[0m\u001b[1;33m,\u001b[0m \u001b[0mgLeak\u001b[0m\u001b[1;33m,\u001b[0m \u001b[0mres\u001b[0m\u001b[1;33m,\u001b[0m \u001b[0mdt\u001b[0m\u001b[1;33m,\u001b[0m \u001b[0mnGen\u001b[0m\u001b[1;33m,\u001b[0m \u001b[0mns\u001b[0m\u001b[1;33m,\u001b[0m \u001b[0minputT\u001b[0m\u001b[1;33m)\u001b[0m\u001b[1;33m)\u001b[0m \u001b[1;31m#run model\u001b[0m\u001b[1;33m\u001b[0m\u001b[0m\n\u001b[0m\u001b[1;32m    234\u001b[0m         \u001b[0mtContrastEnd\u001b[0m \u001b[1;33m=\u001b[0m \u001b[0mtime\u001b[0m\u001b[1;33m.\u001b[0m\u001b[0mtime\u001b[0m\u001b[1;33m(\u001b[0m\u001b[1;33m)\u001b[0m\u001b[1;33m\u001b[0m\u001b[0m\n\u001b[1;32m    235\u001b[0m \u001b[1;33m\u001b[0m\u001b[0m\n",
      "\u001b[0;32mC:\\Users\\benJames\\Dropbox\\LIF\\BenLabMeeting\\LIF_Model.py\u001b[0m in \u001b[0;36mlifModelCurrVec\u001b[0;34m(curr, nT, nS, vDev, vThresh, vRest, vReset, gLeak, res, dt, nGen, ns, inputT)\u001b[0m\n\u001b[1;32m    139\u001b[0m \u001b[1;33m\u001b[0m\u001b[0m\n\u001b[1;32m    140\u001b[0m     \u001b[1;32mfor\u001b[0m \u001b[0mi\u001b[0m \u001b[1;32min\u001b[0m \u001b[0mrange\u001b[0m\u001b[1;33m(\u001b[0m\u001b[1;36m0\u001b[0m\u001b[1;33m,\u001b[0m \u001b[0mnT\u001b[0m\u001b[1;33m-\u001b[0m\u001b[1;36m1\u001b[0m\u001b[1;33m)\u001b[0m\u001b[1;33m:\u001b[0m\u001b[1;33m\u001b[0m\u001b[0m\n\u001b[0;32m--> 141\u001b[0;31m         \u001b[0mV\u001b[0m\u001b[1;33m[\u001b[0m\u001b[0mi\u001b[0m\u001b[1;33m+\u001b[0m\u001b[1;36m1\u001b[0m\u001b[1;33m,\u001b[0m \u001b[1;33m:\u001b[0m\u001b[1;33m]\u001b[0m \u001b[1;33m=\u001b[0m \u001b[0mV\u001b[0m\u001b[1;33m[\u001b[0m\u001b[0mi\u001b[0m\u001b[1;33m,\u001b[0m\u001b[1;33m:\u001b[0m\u001b[1;33m]\u001b[0m \u001b[1;33m+\u001b[0m \u001b[1;33m(\u001b[0m\u001b[1;33m-\u001b[0m\u001b[1;33m(\u001b[0m\u001b[0mV\u001b[0m\u001b[1;33m[\u001b[0m\u001b[0mi\u001b[0m\u001b[1;33m,\u001b[0m\u001b[1;33m:\u001b[0m\u001b[1;33m]\u001b[0m \u001b[1;33m-\u001b[0m \u001b[0mvRest\u001b[0m\u001b[1;33m)\u001b[0m\u001b[1;33m*\u001b[0m\u001b[0mgLeak\u001b[0m \u001b[1;33m+\u001b[0m \u001b[0mres\u001b[0m\u001b[1;33m*\u001b[0m\u001b[0mcurr\u001b[0m\u001b[1;33m[\u001b[0m\u001b[0mnS\u001b[0m\u001b[1;33m,\u001b[0m \u001b[0mi\u001b[0m\u001b[1;33m,\u001b[0m \u001b[1;33m:\u001b[0m\u001b[1;33m]\u001b[0m \u001b[1;33m+\u001b[0m \u001b[0mns\u001b[0m\u001b[1;33m[\u001b[0m\u001b[0mi\u001b[0m\u001b[1;33m,\u001b[0m \u001b[0mnS\u001b[0m\u001b[1;33m,\u001b[0m \u001b[1;33m:\u001b[0m\u001b[1;33m]\u001b[0m\u001b[1;33m)\u001b[0m\u001b[1;33m*\u001b[0m\u001b[0mdt\u001b[0m \u001b[1;31m#vectorized additive noise\u001b[0m\u001b[1;33m\u001b[0m\u001b[0m\n\u001b[0m\u001b[1;32m    142\u001b[0m         \u001b[1;32mfor\u001b[0m \u001b[0mj\u001b[0m \u001b[1;32min\u001b[0m \u001b[0mrange\u001b[0m\u001b[1;33m(\u001b[0m\u001b[1;36m0\u001b[0m\u001b[1;33m,\u001b[0m \u001b[0mnGen\u001b[0m\u001b[1;33m)\u001b[0m\u001b[1;33m:\u001b[0m\u001b[1;33m\u001b[0m\u001b[0m\n\u001b[1;32m    143\u001b[0m             \u001b[1;32mif\u001b[0m \u001b[0mV\u001b[0m\u001b[1;33m[\u001b[0m\u001b[0mi\u001b[0m\u001b[1;33m+\u001b[0m\u001b[1;36m1\u001b[0m\u001b[1;33m,\u001b[0m \u001b[0mj\u001b[0m\u001b[1;33m]\u001b[0m\u001b[1;33m>=\u001b[0m\u001b[0mvThresh\u001b[0m\u001b[1;33m:\u001b[0m\u001b[1;33m\u001b[0m\u001b[0m\n",
      "\u001b[0;31mKeyboardInterrupt\u001b[0m: "
     ]
    }
   ],
   "source": [
    "# initialize some parameters\n",
    "recLen = 1\n",
    "dt = .00001#00005\n",
    "f = 5\n",
    "nS = 20\n",
    "nGen= 10\n",
    "offSet = 5\n",
    "maxAVal = 20\n",
    "maxTheta = .5\n",
    "maxQ = 10\n",
    "\n",
    "#model params\n",
    "vReset = 0\n",
    "vThresh = 1\n",
    "res = 400 # probably we don't want to change those three? not sure about res\n",
    "\n",
    "vRest = [.25, .50] #different values we run the model for\n",
    "gLeak = [50, 100]\n",
    "vDev = [20, 40]\n",
    "\n",
    "\n",
    "#Synaptic reaction params\n",
    "tau1 = 2\n",
    "tau2 = 0.8\n",
    "\n",
    "for i in range(len(vRest)):\n",
    "    for j in range(len(gLeak)):\n",
    "        for k in range(len(vDev)):\n",
    "            runAll(recLen, dt, f, nS, nGen, offSet, maxAVal, maxTheta, maxQ, vRest[i], vReset, vThresh, gLeak[j], res, vDev[k], tau1, tau2)"
   ]
  },
  {
   "cell_type": "code",
   "execution_count": 10,
   "metadata": {},
   "outputs": [
    {
     "name": "stdout",
     "output_type": "stream",
     "text": [
      "0.005\n"
     ]
    }
   ],
   "source": []
  },
  {
   "cell_type": "code",
   "execution_count": null,
   "metadata": {
    "collapsed": true
   },
   "outputs": [],
   "source": []
  }
 ],
 "metadata": {
  "kernelspec": {
   "display_name": "Python 3",
   "language": "python",
   "name": "python3"
  },
  "language_info": {
   "codemirror_mode": {
    "name": "ipython",
    "version": 3
   },
   "file_extension": ".py",
   "mimetype": "text/x-python",
   "name": "python",
   "nbconvert_exporter": "python",
   "pygments_lexer": "ipython3",
   "version": "3.6.0"
  }
 },
 "nbformat": 4,
 "nbformat_minor": 2
}
