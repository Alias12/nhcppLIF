{
 "cells": [
  {
   "cell_type": "code",
   "execution_count": 1,
   "metadata": {},
   "outputs": [],
   "source": [
    "from graphs import *"
   ]
  },
  {
   "cell_type": "code",
   "execution_count": 2,
   "metadata": {},
   "outputs": [],
   "source": [
    "%matplotlib inline\n",
    "\n",
    "recLen = 1\n",
    "dt = .0001\n",
    "f = 5\n",
    "nP = int(1/dt/f)\n",
    "phase = np.zeros((nP))\n",
    "for i in range(0, nP): # getPhase(phase, evTime, dt, nP)\n",
    "    phase[i] = 2*i/nP # - phase[iT%nP]/phase[t/dt%nP] - phase of stimulus at time iT"
   ]
  },
  {
   "cell_type": "code",
   "execution_count": 3,
   "metadata": {},
   "outputs": [],
   "source": [
    "\n",
    "hybridSpikeMat, rateSpikeMat, ampSpikeMat, hybridQuanta, rateQuanta, ampQuanta, hybridFuckups, rateFuckups, ampFuckups, hybridVs, rateVs, ampVs, hybridLambda, rateLambda, ampLambda = readData(data)"
   ]
  },
  {
   "cell_type": "code",
   "execution_count": null,
   "metadata": {},
   "outputs": [],
   "source": []
  }
 ],
 "metadata": {
  "kernelspec": {
   "display_name": "Python 3",
   "language": "python",
   "name": "python3"
  },
  "language_info": {
   "codemirror_mode": {
    "name": "ipython",
    "version": 3
   },
   "file_extension": ".py",
   "mimetype": "text/x-python",
   "name": "python",
   "nbconvert_exporter": "python",
   "pygments_lexer": "ipython3",
   "version": "3.7.0"
  }
 },
 "nbformat": 4,
 "nbformat_minor": 2
}
