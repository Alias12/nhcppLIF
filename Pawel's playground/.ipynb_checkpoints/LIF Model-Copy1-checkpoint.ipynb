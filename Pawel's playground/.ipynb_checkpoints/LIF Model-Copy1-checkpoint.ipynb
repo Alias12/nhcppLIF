{
 "cells": [
  {
   "cell_type": "code",
   "execution_count": 1,
   "metadata": {},
   "outputs": [],
   "source": [
    "from LIF_Model import *"
   ]
  },
  {
   "cell_type": "code",
   "execution_count": 2,
   "metadata": {},
   "outputs": [
    {
     "name": "stdout",
     "output_type": "stream",
     "text": [
      "A/R/NHPP: \n",
      "pre - 2.035162s\n"
     ]
    },
    {
     "name": "stderr",
     "output_type": "stream",
     "text": [
      "/Volumes/LocalDataHD/ll303/anaconda3/lib/python3.7/site-packages/numpy/core/fromnumeric.py:3157: RuntimeWarning: Degrees of freedom <= 0 for slice\n",
      "  **kwargs)\n",
      "/Volumes/LocalDataHD/ll303/anaconda3/lib/python3.7/site-packages/numpy/core/_methods.py:110: RuntimeWarning: invalid value encountered in true_divide\n",
      "  arrmean, rcount, out=arrmean, casting='unsafe', subok=False)\n",
      "/Volumes/LocalDataHD/ll303/anaconda3/lib/python3.7/site-packages/numpy/core/_methods.py:132: RuntimeWarning: invalid value encountered in double_scalars\n",
      "  ret = ret.dtype.type(ret / rcount)\n"
     ]
    },
    {
     "name": "stdout",
     "output_type": "stream",
     "text": [
      "1000 runs - 19.575730s\n",
      "counting spikes - 0.019258s\n",
      "R/NHPP: \n",
      "pre - 4.370428s\n",
      "1000 runs - 19.235884s\n",
      "counting spikes - 0.007756s\n",
      "A/HPP: \n",
      "pre - 2.199807s\n",
      "1000 runs - 18.993378s\n",
      "counting spikes - 0.078357s\n",
      "saving data: \n",
      "0.077954s\n"
     ]
    }
   ],
   "source": [
    "# initialize some parameters\n",
    "recLen = 1\n",
    "dt = .0001#00005\n",
    "f = 5\n",
    "nS = 1\n",
    "nGen= 1000\n",
    "offSet = 5\n",
    "maxAVal = 19.5\n",
    "maxTheta = .475\n",
    "maxQ = 10\n",
    "\n",
    "#model params\n",
    "vReset = 0\n",
    "vThresh = 1\n",
    "res = 400 # probably we don't want to change those three? not sure about res\n",
    "\n",
    "vRest = [.25] #different values we run the model for\n",
    "gLeak = [50]\n",
    "vDev = [20]\n",
    "\n",
    "#Synaptic reaction params\n",
    "tau1 = 2\n",
    "tau2 = 0.8\n",
    "\n",
    "#phase stuff\n",
    "'''nP = int(1/dt/f)\n",
    "phase = np.zeros((nP))\n",
    "for i in range(0, nP): # getPhase(phase, evTime, dt, nP)\n",
    "    phase[i] = 2*i/nP # - phase[iT%nP]/phase[t/dt%nP] - phase of stimulus at time iT'''\n",
    "    \n",
    "#model\n",
    "for i in range(len(vRest)):\n",
    "    for j in range(len(gLeak)):\n",
    "        for k in range(len(vDev)):\n",
    "            runAll(recLen, dt, f, nS, nGen, offSet, maxAVal, maxTheta, maxQ, vRest[i], vReset, vThresh, gLeak[j], res, vDev[k], tau1, tau2, 'no save')"
   ]
  },
  {
   "cell_type": "code",
   "execution_count": null,
   "metadata": {},
   "outputs": [],
   "source": []
  }
 ],
 "metadata": {
  "kernelspec": {
   "display_name": "Python 3",
   "language": "python",
   "name": "python3"
  },
  "language_info": {
   "codemirror_mode": {
    "name": "ipython",
    "version": 3
   },
   "file_extension": ".py",
   "mimetype": "text/x-python",
   "name": "python",
   "nbconvert_exporter": "python",
   "pygments_lexer": "ipython3",
   "version": "3.7.0"
  }
 },
 "nbformat": 4,
 "nbformat_minor": 2
}
