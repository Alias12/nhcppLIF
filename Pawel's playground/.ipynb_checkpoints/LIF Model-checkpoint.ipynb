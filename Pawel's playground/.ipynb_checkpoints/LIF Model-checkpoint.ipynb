{
 "cells": [
  {
   "cell_type": "code",
   "execution_count": 1,
   "metadata": {},
   "outputs": [],
   "source": [
    "from LIF_Model import *"
   ]
  },
  {
   "cell_type": "code",
   "execution_count": 2,
   "metadata": {
    "scrolled": true
   },
   "outputs": [
    {
     "data": {
      "text/plain": [
       "'for i in range(len(vRest)):\\n    for j in range(len(gLeak)): #try changing spike datatype saved\\n        for k in range(len(vDev)):\\n            runAll(recLen, dt, f, nS, nGen, offSet, maxAVal, maxTheta, maxQ, vRest[i], vReset, vThresh, gLeak[j], res, vDev[k], tau1, tau2, saveSamples, inputs, gExc, vExc, doCond, doHybrid, doRate, doAmp, saveMeanV, saveMeanFreeV, saveQuantaStats, savePhaseStats, saveFirstSpikes)'"
      ]
     },
     "execution_count": 2,
     "metadata": {},
     "output_type": "execute_result"
    }
   ],
   "source": [
    "# initialize some parameters\n",
    "recLen = 1\n",
    "dt = .001#00005\n",
    "f = 5\n",
    "nS = 1\n",
    "nGen = 2\n",
    "offSet = 5\n",
    "maxAVal = 20\n",
    "maxTheta = .5\n",
    "maxQ = 10\n",
    "\n",
    "#model params\n",
    "vReset = 0\n",
    "vThresh = 1\n",
    "vExc = 3.75\n",
    "\n",
    "inputs = 1\n",
    "res = 400.0/inputs \n",
    "\n",
    "gExc = res/(vExc - 0.625)\n",
    "\n",
    "vRest = [.25] \n",
    "gLeak = [50]\n",
    "vDev = [11]\n",
    "\n",
    "#Synaptic reaction params\n",
    "tau1 = 2\n",
    "tau2 = 0.8\n",
    "\n",
    "#Options\n",
    "\n",
    "saveSamples = False # save voltage samples\n",
    "doCond = True # run the conductance synapse model\n",
    "doCurr = False # run the current synapse model\n",
    "\n",
    "doHybrid = False # run model for hybrid input\n",
    "doRate = True # run model for rate input\n",
    "doAmp = True # run model for amplitude input\n",
    "\n",
    "saveMeanV = False # save mean voltages for contrast\n",
    "saveMeanFreeV = False # save mean free voltage for contrast\n",
    "saveQuantaStats = True # save average cumulative quanta, variation and lambdas\n",
    "savePhaseStats = True # save expected and simulated variations of quanta based on phase\n",
    "saveFirstSpikes = True # save a first spike time matrix\n",
    "#phase stuff\n",
    "'''nP = int(1/dt/f)\n",
    "phase = np.zeros((nP))\n",
    "for i in range(0, nP): # getPhase(phase, evTime, dt, nP)\n",
    "    phase[i] = 2*i/nP # - phase[iT%nP]/phase[t/dt%nP] - phase of stimulus at time iT'''\n",
    "    \n",
    "#model\n",
    "for i in range(len(vRest)):\n",
    "    for j in range(len(gLeak)): \n",
    "        for k in range(len(vDev)):\n",
    "            runAll(recLen, dt, f, nS, nGen, offSet, maxAVal, maxTheta, maxQ, vRest[i], vReset, vThresh, gLeak[j], res, vDev[k], tau1, tau2, saveSamples, inputs, gExc, vExc, doCond, doHybrid, doRate, doAmp, saveMeanV, saveMeanFreeV, saveQuantaStats, savePhaseStats, saveFirstSpikes, doCurr)"
   ]
  },
  {
   "cell_type": "code",
   "execution_count": null,
   "metadata": {},
   "outputs": [],
   "source": []
  },
  {
   "cell_type": "code",
   "execution_count": null,
   "metadata": {},
   "outputs": [],
   "source": []
  }
 ],
 "metadata": {
  "kernelspec": {
   "display_name": "Python 3",
   "language": "python",
   "name": "python3"
  },
  "language_info": {
   "codemirror_mode": {
    "name": "ipython",
    "version": 3
   },
   "file_extension": ".py",
   "mimetype": "text/x-python",
   "name": "python",
   "nbconvert_exporter": "python",
   "pygments_lexer": "ipython3",
   "version": "3.7.1"
  }
 },
 "nbformat": 4,
 "nbformat_minor": 2
}
