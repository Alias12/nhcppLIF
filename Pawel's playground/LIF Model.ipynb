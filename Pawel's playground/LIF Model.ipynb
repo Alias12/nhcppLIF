{
 "cells": [
  {
   "cell_type": "code",
   "execution_count": 1,
   "metadata": {},
   "outputs": [],
   "source": [
    "from LIF_Model import *"
   ]
  },
  {
   "cell_type": "code",
   "execution_count": null,
   "metadata": {
    "scrolled": false
   },
   "outputs": [
    {
     "name": "stdout",
     "output_type": "stream",
     "text": [
      "R/NHPP: \n",
      "pre - 392.622000s\n"
     ]
    }
   ],
   "source": [
    "# initialize some parameters\n",
    "recLen = 1\n",
    "dt = .0001#00005\n",
    "f = [5]\n",
    "nS = 20\n",
    "nGen = 10000\n",
    "offSet = 5\n",
    "maxAVal = 20\n",
    "maxTheta = .5\n",
    "maxQ = 10\n",
    "\n",
    "#model params\n",
    "vReset = 0\n",
    "vThresh = 1\n",
    "vExc = 3.75\n",
    "\n",
    "inputs = 1\n",
    "res = 400.0/inputs \n",
    "\n",
    "gExc = res/(vExc - 0.625)\n",
    "\n",
    "vRest = [.25] \n",
    "gLeak = [50]\n",
    "vDev = [40]\n",
    "\n",
    "#Synaptic reaction params\n",
    "tau1 = 2\n",
    "tau2 = 0.8\n",
    "\n",
    "#Options\n",
    "\n",
    "saveSamples = False # save voltage samples\n",
    "doCond = True # run the conductance synapse model\n",
    "doCurr = True # run the current synapse model\n",
    "\n",
    "doHybrid = False # run model for hybrid input\n",
    "doRate = True # run model for rate input\n",
    "doAmp = True # run model for amplitude input\n",
    "\n",
    "saveMeanV = False # save mean voltages for contrast\n",
    "saveMeanFreeV = True # save mean free voltage for contrast\n",
    "saveQuantaStats = True # save average cumulative quanta, variation and lambdas\n",
    "savePhaseStats = True # save expected and simulated variations of quanta based on phase\n",
    "saveFirstSpikes = True # save a first spike time matrix\n",
    "\n",
    "#model\n",
    "for i in range(len(vRest)):\n",
    "    for j in range(len(gLeak)): \n",
    "        for k in range(len(vDev)):\n",
    "            for m in range(len(f)):\n",
    "                runAll(recLen, dt, f[m], nS, nGen, offSet, maxAVal, maxTheta, maxQ, vRest[i], vReset, vThresh, gLeak[j], res, vDev[k], tau1, tau2, saveSamples, inputs, gExc, vExc, doCond, doHybrid, doRate, doAmp, saveMeanV, saveMeanFreeV, saveQuantaStats, savePhaseStats, saveFirstSpikes, doCurr)"
   ]
  },
  {
   "cell_type": "code",
   "execution_count": null,
   "metadata": {},
   "outputs": [],
   "source": []
  },
  {
   "cell_type": "code",
   "execution_count": null,
   "metadata": {},
   "outputs": [],
   "source": []
  }
 ],
 "metadata": {
  "kernelspec": {
   "display_name": "Python 3",
   "language": "python",
   "name": "python3"
  },
  "language_info": {
   "codemirror_mode": {
    "name": "ipython",
    "version": 3
   },
   "file_extension": ".py",
   "mimetype": "text/x-python",
   "name": "python",
   "nbconvert_exporter": "python",
   "pygments_lexer": "ipython3",
   "version": "3.7.1"
  }
 },
 "nbformat": 4,
 "nbformat_minor": 2
}
