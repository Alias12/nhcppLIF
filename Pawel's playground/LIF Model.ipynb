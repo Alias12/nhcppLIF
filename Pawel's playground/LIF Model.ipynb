{
 "cells": [
  {
   "cell_type": "code",
   "execution_count": 1,
   "metadata": {},
   "outputs": [],
   "source": [
    "from LIF_Model import *"
   ]
  },
  {
   "cell_type": "code",
   "execution_count": null,
   "metadata": {},
   "outputs": [
    {
     "name": "stdout",
     "output_type": "stream",
     "text": [
      "A/R/NHPP: \n",
      "pre - 676.860628s\n",
      "20000 runs - 36861.177865s\n",
      "counting spikes - 2.194194s\n",
      "R/NHPP: \n",
      "pre - 1090.062691s\n"
     ]
    }
   ],
   "source": [
    "# initialize some parameters\n",
    "recLen = 1\n",
    "dt = .00001#00005\n",
    "f = 5\n",
    "nS = 20\n",
    "nGen= 1000\n",
    "offSet = 5\n",
    "maxAVal = 20\n",
    "maxTheta = .5\n",
    "maxQ = 10\n",
    "\n",
    "#model params\n",
    "vReset = 0\n",
    "vThresh = 1\n",
    "res = 400 # probably we don't want to change those three? not sure about res\n",
    "\n",
    "vRest = [.25] #different values we run the model for\n",
    "gLeak = [50]\n",
    "vDev = [10,20,30, 40,50, 60, 70, 80, 90, 100]\n",
    "\n",
    "#Synaptic reaction params\n",
    "tau1 = 2\n",
    "tau2 = 0.8\n",
    "\n",
    "#phase stuff\n",
    "nP = int(1/dt/f)\n",
    "phase = np.zeros((nP))\n",
    "for i in range(0, nP): # getPhase(phase, evTime, dt, nP)\n",
    "    phase[i] = 2*i/nP # - phase[iT%nP]/phase[t/dt%nP] - phase of stimulus at time iT\n",
    "    \n",
    "#model\n",
    "for i in range(len(vRest)):\n",
    "    for j in range(len(gLeak)):\n",
    "        for k in range(len(vDev)):\n",
    "            runAll(recLen, dt, f, nS, nGen, offSet, maxAVal, maxTheta, maxQ, vRest[i], vReset, vThresh, gLeak[j], res, vDev[k], tau1, tau2)"
   ]
  },
  {
   "cell_type": "code",
   "execution_count": null,
   "metadata": {},
   "outputs": [],
   "source": []
  }
 ],
 "metadata": {
  "kernelspec": {
   "display_name": "Python 3",
   "language": "python",
   "name": "python3"
  },
  "language_info": {
   "codemirror_mode": {
    "name": "ipython",
    "version": 3
   },
   "file_extension": ".py",
   "mimetype": "text/x-python",
   "name": "python",
   "nbconvert_exporter": "python",
   "pygments_lexer": "ipython3",
   "version": "3.7.0"
  }
 },
 "nbformat": 4,
 "nbformat_minor": 2
}
