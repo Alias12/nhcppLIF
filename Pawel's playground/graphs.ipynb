{
 "cells": [
  {
   "cell_type": "code",
   "execution_count": 2,
   "metadata": {},
   "outputs": [],
   "source": [
    "from graphs import *"
   ]
  },
  {
   "cell_type": "code",
   "execution_count": 2,
   "metadata": {},
   "outputs": [],
   "source": [
    "%matplotlib inline\n",
    "\n",
    "vRest = .25\n",
    "gLeak = 50\n",
    "vDev = 0\n",
    "contrastN=0\n",
    "\n",
    "recLen = 1\n",
    "dt = .0001\n",
    "f = 5\n",
    "nP = int(1/dt/f)\n",
    "phase = np.zeros((nP))\n",
    "for i in range(0, nP): # getPhase(phase, evTime, dt, nP)\n",
    "    phase[i] = 2*i/nP # - phase[iT%nP]/phase[t/dt%nP] - phase of stimulus at time iT\n",
    "    "
   ]
  },
  {
   "cell_type": "code",
   "execution_count": 3,
   "metadata": {},
   "outputs": [],
   "source": [
    "#plotVs(vRest, gLeak, vDev, contrastN, f, dt)"
   ]
  },
  {
   "cell_type": "code",
   "execution_count": 4,
   "metadata": {},
   "outputs": [],
   "source": [
    "#plotInstFreq(vRest, gLeak, vDev, contrastN, recLen, f, dt)"
   ]
  },
  {
   "cell_type": "code",
   "execution_count": null,
   "metadata": {},
   "outputs": [],
   "source": []
  },
  {
   "cell_type": "code",
   "execution_count": 14,
   "metadata": {},
   "outputs": [
    {
     "name": "stdout",
     "output_type": "stream",
     "text": [
      "Model parameters: vRest = 0.25; gLeak = 50, vDev = 0, dt = 0.0001; 10 simulations for each.\n"
     ]
    },
    {
     "data": {
      "image/png": "[encoded data removed]",
      "text/plain": [
       "<Figure size 432x288 with 1 Axes>"
      ]
     },
     "metadata": {
      "needs_background": "light"
     },
     "output_type": "display_data"
    }
   ],
   "source": [
    "name = 'data/modelData'+str(vRest)+'_'+str(gLeak)+'_'+str(vDev)+'.hdf5'\n",
    "data = h5py.File(name, 'r')\n",
    "hybridSpikeMat, rateSpikeMat, ampSpikeMat, hybridQuanta, rateQuanta, ampQuanta, hybridFuckups, rateFuckups, ampFuckups, hybridVs, rateVs, ampVs, hybridFree, rateFree, ampFree, hybridCumQuanta, rateCumQuanta, ampCumQuanta, hybridVarQuanta, rateVarQuanta, ampVarQuanta, hybridPhaseVar, ratePhaseVar, ampPhaseVar, hybridLambda, rateLambda, ampLambda, hybridExVar, rateExVar, ampExVar, hybridFirst, rateFirst, ampFirst = readData(data)\n",
    "\n",
    "plt.plot(ampCumQuanta)\n",
    "plt.plot(rateCumQuanta)\n",
    "data.close()"
   ]
  },
  {
   "cell_type": "code",
   "execution_count": null,
   "metadata": {},
   "outputs": [],
   "source": []
  },
  {
   "cell_type": "code",
   "execution_count": 49,
   "metadata": {},
   "outputs": [
    {
     "name": "stdout",
     "output_type": "stream",
     "text": [
      "[100.          99.18845807  78.89990983  63.11992786  50.49594229\n",
      "  40.16722682  31.55996393  24.27689533  18.0342651   12.62398557\n",
      "   7.88999098   3.71293693   0.        ]\n",
      "[0.         1.         1.79545455 2.43181818 2.94090909 3.34586777\n",
      " 3.66404959 3.90880483 4.09062301 4.21789574 4.2974412  4.33487435]\n"
     ]
    },
    {
     "data": {
      "text/plain": [
       "[<matplotlib.lines.Line2D at 0x10118780>]"
      ]
     },
     "execution_count": 49,
     "metadata": {},
     "output_type": "execute_result"
    },
    {
     "data": {
      "image/png": "[encoded data removed]",
      "text/plain": [
       "<Figure size 432x288 with 1 Axes>"
      ]
     },
     "metadata": {
      "needs_background": "light"
     },
     "output_type": "display_data"
    }
   ],
   "source": [
    "ccc = np.zeros(13)\n",
    "minG = 1\n",
    "\n",
    "gMax = 200*minG\n",
    "for i in range(1,13):\n",
    "    ccc[i] = gMax*(i-1)/(i+6)+minG\n",
    "ccc[0]=0\n",
    "ccc*=100/ccc[-1]\n",
    "ccc=100-ccc\n",
    "print(ccc)\n",
    "\n",
    "amps = np.zeros(12)\n",
    "for i in range (1, 12):\n",
    "    amps[i] = amps[i-1] + ccc[i]\n",
    "    \n",
    "amps/=amps[1]\n",
    "print(amps)\n",
    "plt.plot(amps)"
   ]
  }
 ],
 "metadata": {
  "kernelspec": {
   "display_name": "Python 3",
   "language": "python",
   "name": "python3"
  },
  "language_info": {
   "codemirror_mode": {
    "name": "ipython",
    "version": 3
   },
   "file_extension": ".py",
   "mimetype": "text/x-python",
   "name": "python",
   "nbconvert_exporter": "python",
   "pygments_lexer": "ipython3",
   "version": "3.7.1"
  }
 },
 "nbformat": 4,
 "nbformat_minor": 2
}
